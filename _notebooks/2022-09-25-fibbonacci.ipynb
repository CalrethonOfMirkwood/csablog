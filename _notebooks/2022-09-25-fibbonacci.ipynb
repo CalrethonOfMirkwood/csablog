{
 "cells": [
  {
   "cell_type": "markdown",
   "metadata": {},
   "source": [
    "# Fibbonacci\n",
    "\n",
    "- toc: true \n",
    "- badges: false\n",
    "- comments: true\n",
    "- categories: [jupyter]\n",
    "- image: images/chart-preview.png\n",
    "- author: Sophie Park"
   ]
  },
  {
   "cell_type": "code",
   "execution_count": null,
   "metadata": {},
   "outputs": [],
   "source": [
    "import java.util.Scanner;\n",
    "\n",
    "class fibbonacci{\n",
    "    int n1=0;\n",
    "    int n2=1;\n",
    "    int n3 = 10;\n",
    "    int i = 2;\n",
    "    int num = 0\n",
    "    Scanner sus = new Scanner(System.in);\n",
    "\n",
    "    public static void main(String args[]) {\n",
    "        System.out.println(\"Enter integer: \");\n",
    "        num = sus.nextInt();\n",
    "\n",
    "        For();\n",
    "        While();\n",
    "        Recursive(num);\n",
    "    }    \n",
    "\n",
    "    static void For(){\n",
    "        System.out.print(n1+\" \"+n2);//printing 0 and 1 \n",
    "        for (i < num; i++) {//loop starts from 2 because 0 and 1 are already printed    \n",
    "            n3=n1+n2;    \n",
    "            System.out.print(\" \"+n3);    \n",
    "            n1=n2;    \n",
    "            n2=n3;\n",
    "        }\n",
    "    }\n",
    "\n",
    "    static void While(){\n",
    "        System.out.print(n1+\" \"+n2);//printing 0 and 1\n",
    "        whlie (i < num; i++) {\n",
    "            n3=n1+n2;    \n",
    "            System.out.print(\" \"+n3);    \n",
    "            n1=n2;    \n",
    "            n2=n3;\n",
    "        }\n",
    "    }\n",
    "\n",
    "    static void Recursive(n){\n",
    "        if ((n == 0) || (n == 1))\n",
    "            return n;\n",
    "        else\n",
    "            return Recursive(n - 1) + Recursive(n - 2);\n",
    "    }\n",
    "}"
   ]
  },
  {
   "cell_type": "markdown",
   "metadata": {},
   "source": [
    "\n",
    "> Skill 1.B:Determine code that would be used to complete code segments (ie For, While, Recursion)\n",
    "\n",
    "\n",
    "I have made the functions.\n",
    "\n",
    "\n",
    "> Skill 4.C: Determine if two or more code segments yield equivalent results (be sure to Discuss how you know results are the same)\n",
    "\n",
    "\n",
    "They all yield the same results because 1. the for and while loops contain the same code, just rerun under different mechanisms, and 2. all of the functions are solving the same fibbonacci sequence.\n",
    "\n",
    "\n",
    "> Skill 5.A: Describe the behavior of a given segment of program code (describe the difference in recursion versus for & while loops, perhaps add timing to determine speed)\n",
    "\n",
    "\n",
    "The for and whlie loops run the same sequence to calculate the next number but the recursive function uses previous results.  Therefore the recursive funciton is more efficient and has a faster runtime than the for and while loops"
   ]
  }
 ],
 "metadata": {
  "kernelspec": {
   "display_name": "Java",
   "language": "java",
   "name": "java"
  },
  "language_info": {
   "name": "java"
  },
  "orig_nbformat": 4
 },
 "nbformat": 4,
 "nbformat_minor": 2
}
