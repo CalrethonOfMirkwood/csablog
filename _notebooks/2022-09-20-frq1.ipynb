{
 "cells": [
  {
   "cell_type": "markdown",
   "metadata": {},
   "source": [
    "# FRQ #1 2021\n",
    "\n",
    "- toc: true \n",
    "- badges: false\n",
    "- comments: true\n",
    "- categories: [jupyter]\n",
    "- image: images/chart-preview.png\n",
    "- author: Sophie Park"
   ]
  },
  {
   "cell_type": "markdown",
   "metadata": {},
   "source": [
    "Main:"
   ]
  },
  {
   "cell_type": "code",
   "execution_count": null,
   "metadata": {},
   "outputs": [],
   "source": [
    "class Main {\n",
    "  public static void main(String[] args)\n",
    "  {\n",
    "    WordMatch game = new WordMatch(\"mississippi\");\n",
    "\n",
    "   int play = game.scoreGuess(\"mississippi\");\n",
    "    System.out.printf(\"Guess: mississippi\\nScore: %d\\n\", play);\n",
    "    \n",
    "    WordMatch game2 = new WordMatch(\"concatenation\");\n",
    "    \n",
    "   int play2 = game2.scoreGuess(\"nation\");\n",
    "\n",
    "    \n",
    "    System.out.printf(\"\\nGuess 1: ten\\nScore: %d\\n\", play2);\n",
    "    System.out.printf(\"\\nGuess 2: nation\\nScore: %d\\n\", play2);\n",
    "  }\n",
    "}"
   ]
  },
  {
   "cell_type": "markdown",
   "metadata": {},
   "source": [
    "class Wordmatch:"
   ]
  },
  {
   "cell_type": "code",
   "execution_count": null,
   "metadata": {},
   "outputs": [],
   "source": [
    "/**\n",
    " * Main class for WordMatch.java\n",
    " *\n",
    " */\n",
    "public class WordMatch\n",
    "{\n",
    "    private String secret;\n",
    "    \n",
    "    public WordMatch(String secret)\n",
    "    {\n",
    "        this.secret = secret;\n",
    "    }\n",
    "    \n",
    "    /**\n",
    "     * scoreGuess \n",
    "     * \n",
    "     * @param guess\n",
    "     * @return\n",
    "     */\n",
    "    public int scoreGuess(String guess)\n",
    "    {\n",
    "      int lastIndex = 0;\n",
    "      int count = 0;\n",
    "      \n",
    "      while (lastIndex != -1) {\n",
    "        lastIndex = secret.indexOf(guess, lastIndex);\n",
    "        if (lastIndex != -1) {\n",
    "            count++;\n",
    "            lastIndex += guess.length();\n",
    "        }\n",
    "      }\n",
    "      return count * guess.length() * guess.length();\n",
    "        \n",
    "    }\n",
    "    \n",
    "    public String findBetterGuess(String guess1, String guess2)\n",
    "    {\n",
    "      int guessA = scoreGuess(guess1);\n",
    "      int guessB = scoreGuess(guess2);\n",
    "\n",
    "      if(guessA > guessB) return guess1;\n",
    "      \n",
    "      if(guessB > guessA) return guess2;\n",
    "\n",
    "      if((guess1.compareTo(guess2)) > 0)\n",
    "      {\n",
    "        return guess1;\n",
    "      }\n",
    "      return guess2;\n",
    "    }\n",
    "}"
   ]
  }
 ],
 "metadata": {
  "kernelspec": {
   "display_name": "Java",
   "language": "java",
   "name": "java"
  },
  "language_info": {
   "name": "java"
  },
  "orig_nbformat": 4
 },
 "nbformat": 4,
 "nbformat_minor": 2
}
