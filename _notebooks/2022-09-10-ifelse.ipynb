{
 "cells": [
  {
   "cell_type": "markdown",
   "metadata": {},
   "source": [
    "# If-Else and De Morgan's Law\n",
    "> I, EvaX, humbly submit a toast to Nicholas Alexander for successfully managing to pirate Warcraft III so that he may play Defence of the Ancients. Congratulations, Nick, enjoy your DoTA. (slurrrrp) Ahhh!\n",
    "\n",
    "- toc: true \n",
    "- badges: false\n",
    "- comments: true\n",
    "- categories: [jupyter]\n",
    "- image: images/chart-preview.png\n",
    "- author: Sophie Park"
   ]
  },
  {
   "cell_type": "markdown",
   "metadata": {},
   "source": [
    "# If-Else\n",
    "\n",
    "if-else statements are one of the first things beginner programmers learn.  Conceptually, it is very simple.\n",
    "\n",
    "`If (condition), do (action x).`\n",
    "\n",
    "You can add an \"else\" to the end of an if statement to do an action.\n",
    "\n",
    "`If (condition), do (action x). Else, do (action y).`\n",
    "\n",
    "You can also stack if-else statements.  Stack when you want to check a condition if the previous condition was false.  You can stack as many times as you want (within computing capabilities of course).\n",
    "\n",
    "`If (condition A), do (action x). Else, if (condition B), do (action y). Else, do (action z)`\n",
    "\n",
    "Combined with basic logic gates, if else statements are used like this:"
   ]
  },
  {
   "cell_type": "code",
   "execution_count": 11,
   "metadata": {},
   "outputs": [
    {
     "name": "stdout",
     "output_type": "stream",
     "text": [
      "it's very quiet in here..."
     ]
    }
   ],
   "source": [
    "// `dog` and `cat` are booleans that are true or false\n",
    "// in the conditional statements, they themselves are either `true` or `false` and do not need `==` to compare\n",
    "Boolean dog = false; // set dog to false because I do not have a dog\n",
    "Boolean cat = false; // set cat to false because I do not have a cat\n",
    "\n",
    "if (dog && !cat) { // `&&` is the AND logic gate, the exclemation mark in front of cat is NOT\n",
    "    System.out.print(\"Woof woof!\"); // prints if dog is true but cat is false\n",
    "}\n",
    "\n",
    "else if (!dog && cat) { // this check happens only if previous gate is false\n",
    "    System.out.print(\"Meow meow!\"); // prints if dog is false but cat is true\n",
    "}\n",
    "\n",
    "else if (dog) { // this check happens only if both previous checks are false, meaning there must be either cat and dog are either both true or both false\n",
    "    System.out.print(\"Woof meow woof meow, meow wolf meow wolf!\"); // if dog is true and both previous gates failed, then that means both dog and cat must be true\n",
    "}\n",
    "\n",
    "else System.out.print(\"it's very quiet in here...\"); // this check happens only if all three previous checks are false, therefore both cat and dog must be false"
   ]
  },
  {
   "cell_type": "markdown",
   "metadata": {},
   "source": [
    "# De Morgan's Law\n",
    "\n",
    "Can you explain why the below code doesn't print anything?"
   ]
  },
  {
   "cell_type": "code",
   "execution_count": null,
   "metadata": {},
   "outputs": [],
   "source": [
    "// ps. what the booleans are set to are irrelevent\n",
    "Boolean amogi = true;\n",
    "Boolean banan = false;\n",
    "\n",
    "if ( !(amogi && banan) == (!amogi && !banan) ) { // why are the two conditions not equal?\n",
    "    System.out.print(\"wait what?\");  // why is it not printing?\n",
    "}"
   ]
  },
  {
   "cell_type": "markdown",
   "metadata": {},
   "source": [
    "De Morgan's law is a logical rule which states that the negation of a disjunction is the conjunction of the negations (and the converse that the negation of a conjunction is the disjunction of the negations).\n",
    "\n",
    "In other words, this means that:\n",
    "\n",
    "`not (A or B) = (not A) and (not B)'\n",
    "\n",
    "And the converse: `not (A and B) = (not A) or (not B)'\n",
    "\n",
    "Let's test De Morgan's law out:"
   ]
  },
  {
   "cell_type": "code",
   "execution_count": 12,
   "metadata": {},
   "outputs": [
    {
     "name": "stdout",
     "output_type": "stream",
     "text": [
      "huh\n",
      "wow this really works huh"
     ]
    }
   ],
   "source": [
    "// set booleans\n",
    "Boolean amogi = true;\n",
    "Boolean banan = false;\n",
    "\n",
    "if ( !(amogi || banan) == (!amogi && !banan) ){\n",
    "    System.out.println(\"huh\");\n",
    "}\n",
    "\n",
    "if ( !(amogi && banan) == (!amogi || !banan) ){\n",
    "    System.out.print(\"wow this really works huh\");\n",
    "}"
   ]
  }
 ],
 "metadata": {
  "kernelspec": {
   "display_name": "Java",
   "language": "java",
   "name": "java"
  },
  "language_info": {
   "codemirror_mode": "java",
   "file_extension": ".jshell",
   "mimetype": "text/x-java-source",
   "name": "java",
   "pygments_lexer": "java",
   "version": "11.0.16+8-post-Ubuntu-0ubuntu120.04"
  },
  "orig_nbformat": 4
 },
 "nbformat": 4,
 "nbformat_minor": 2
}
