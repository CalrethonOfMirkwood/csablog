{
 "cells": [
  {
   "cell_type": "markdown",
   "metadata": {},
   "source": [
    "# College Board Test Final Corrections\n",
    "\n",
    "- toc: false\n",
    "- badges: false\n",
    "- comments: true\n",
    "- categories: [jupyter] [lessons]\n",
    "- image: images/chart-preview.png\n",
    "- author: Sophie Park"
   ]
  },
  {
   "cell_type": "markdown",
   "metadata": {},
   "source": [
    "# Score: **37/40**\n",
    "![csa final quiz score](my_icons/final.png)\n",
    "\n",
    "\n",
    "# Corrections:\n",
    "## Q04\n",
    "![](my_icons/fhjnnsdz.png)\n",
    "\n",
    "What is printed as a result of executing the code segment?\n",
    "\n",
    "> C, `Value is: 2` because `x` and `y` are both integers so the result of `x / y` shoudl be an integer, the floor of 7/3.\n",
    "\n",
    "\n",
    "## Q23\n",
    "![](my_icons/aenuya6w.png)\n",
    "\n",
    "Assume that animals has been instantiated and initialized with the following contents.\n",
    "\n",
    "![you hearing this?](my_icons/eol47xyy.png)\n",
    "\n",
    "What will the contents of animals be as a result of calling manipulate?\n",
    "\n",
    "> B, `[\"bear\", \"zebra\", \"bass\", \"cat\", \"koala\", \"baboon\"]` because the program sorts the objects by running a loop for each object in the list from right to left.  If the object starts with 'b', then the object is moved to the position of the iteration.\n",
    "\n",
    "\n",
    "## Q40\n",
    "![](my_icons/cruwwiqu.png)\n",
    "\n",
    "What is printed as a result of the call whatsItDo(\"WATCH\")?\n",
    "\n",
    "> C, because the function prints from character 0 to character len-1, which means the last letter of the input will not be printed.\n",
    "\n"
   ]
  }
 ],
 "metadata": {
  "kernelspec": {
   "display_name": "Python 3.9.5 64-bit",
   "language": "python",
   "name": "python3"
  },
  "language_info": {
   "name": "python",
   "version": "3.9.5"
  },
  "orig_nbformat": 4,
  "vscode": {
   "interpreter": {
    "hash": "3883fcf7adaac21bb0e1105107d584edf5a13c8b0f81de298d4a049ca6e40fff"
   }
  }
 },
 "nbformat": 4,
 "nbformat_minor": 2
}
