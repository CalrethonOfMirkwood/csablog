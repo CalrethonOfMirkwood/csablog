{
 "cells": [
  {
   "cell_type": "markdown",
   "metadata": {},
   "source": [
    "# Iteration Minilab 1\n",
    "> Through 99 bottles\n",
    "\n",
    "- toc: true \n",
    "- badges: false\n",
    "- comments: true\n",
    "- categories: [jupyter]\n",
    "- image: images/chart-preview.png\n",
    "- author: Sophie Park"
   ]
  },
  {
   "cell_type": "markdown",
   "metadata": {},
   "source": [
    "Classic 99 bottes:"
   ]
  },
  {
   "cell_type": "code",
   "execution_count": null,
   "metadata": {
    "vscode": {
     "languageId": "java"
    }
   },
   "outputs": [],
   "source": [
    "for (int count = 99; count > 1; count--){\n",
    "    System.out.println(count + \" bottles of rum on the wall, \" + count + \" bottles of rum,\");\n",
    "    System.out.println(\"Take one down, pass it around, \" + (count - 1) + \" bottles of rum on the wall, \");\n",
    "}\n",
    "System.out.println(\"1 bottle of rum on the wall, 1 bottle of rum\");\n",
    "System.out.println(\"Take one down, pass it around, no bottles of rum on the wall\");\n",
    "System.out.println(\"No more bottles of rum on the wall, no more bottles of rum.\");\n",
    "System.out.println(\"Go to the store, buy some more, 99 bottles of rum on the wall!\");"
   ]
  },
  {
   "cell_type": "markdown",
   "metadata": {},
   "source": [
    "ASCII art 99 bottles."
   ]
  },
  {
   "cell_type": "code",
   "execution_count": null,
   "metadata": {
    "vscode": {
     "languageId": "java"
    }
   },
   "outputs": [],
   "source": [
    "String [][] bottleArt = {\n",
    "    {//art for printing multiple bottles\n",
    "        \"  _    \",\n",
    "        \" {_}   \",\n",
    "        \" |(|   \",\n",
    "        \" |=|   \",\n",
    "        \"/   \\\\  \",\n",
    "        \"|.--|  \",\n",
    "        \"||  |  \",\n",
    "        \"|'--|  \",\n",
    "        \"'-=-'  \",\n",
    "        \"\",\n",
    "        \"\",\n",
    "        \"\",\n",
    "        \"\",\n",
    "        \"\",\n",
    "        \"\",\n",
    "        \"\",\n",
    "        \"\",\n",
    "        \"\",\n",
    "        \"\",\n",
    "    },      \n",
    "    {//art for drinking bottle\n",
    "        \"  _\",\n",
    "        \" {_}\",\n",
    "        \" |(|\",\n",
    "        \" |=|\",\n",
    "        \"/   \\\\\",\n",
    "        \"|.--|\",\n",
    "        \"||  |    .    ' .\",\n",
    "        \"|'--|  '     \\\\~~~/\",\n",
    "        \"'-=-' \\\\~~~/   \\\\_/\",\n",
    "        \"       \\\\_/     Y\",\n",
    "        \"        Y     _|_\",\n",
    "        \"       _|_\",\n",
    "        \"\",\n",
    "        \"\",\n",
    "        \"\",\n",
    "        \"\",\n",
    "        \"\",\n",
    "        \"\"\n",
    "    },\n",
    "    { //final bottle art at end\n",
    "        \"(\",\n",
    "        \"    *                           )   *\",\n",
    "        \"                  )     *      (\",\n",
    "        \"        )        (                   (\",\n",
    "        \"       (          )     (             )\",\n",
    "        \"        )    *           )        )  (\",\n",
    "        \"       (                (        (      *\",\n",
    "        \"        )          H     )        )\",\n",
    "        \"                  [ ]            (\",\n",
    "        \"           (  *   |-|       *     )    (\",\n",
    "        \"     *      )     |_|        .          )\",\n",
    "        \"           (      | |    .  \",\n",
    "        \"     )           /   \\\\     .    ' .        *\",\n",
    "        \"    (           |_____|  '  .    .  \",\n",
    "        \"     )          | ___ |  \\\\~~~/  ' .   (\",\n",
    "        \"            *   | \\\\ / |   \\\\_/  \\\\~~~/   )\",\n",
    "        \"                | _Y_ |    |    \\\\_/   (\",\n",
    "        \"    *           |-----|  __|__   |      *\",\n",
    "        \"                `-----`        __|__\"\n",
    "    }\n",
    "};\n",
    "\n",
    "for (int count = 9; count > 1; count--){\n",
    "    for (int i = 0; i < 7; i++){  //print upper half of bottle\n",
    "        for (int j = count; j > 0; j--) System.out.print(bottleArt[0][i]);\n",
    "        System.out.println();\n",
    "    }\n",
    "    \n",
    "    for (int i = count; i > 0; i--) System.out.print(\"|| \" + i + \"|  \");  //print labeled midsection of bottle\n",
    "    System.out.println();\n",
    "\n",
    "    for (int i = 7; i < 10; i++){  //print lower half of bottle\n",
    "        for (int j = count; j > 0; j--) System.out.print(bottleArt[0][i]);\n",
    "        System.out.println();\n",
    "    }\n",
    "\n",
    "    System.out.println(count + \" bottles of rum on the wall, \" + count + \" bottles of rum,\");\n",
    "    \n",
    "    for (int i = 0; i < 7; i++){  //print upper half of bottle\n",
    "        for (int j = count; j > 0; j--) System.out.print(bottleArt[1][i]);\n",
    "        System.out.println();\n",
    "    }\n",
    "    \n",
    "    System.out.println(\"|| \" + count + \"|  \");  //print labeled midsection of bottle\n",
    "\n",
    "    for (int i = 7; i < 13; i++){  //print lower half of bottle\n",
    "        for (int j = count; j > 0; j--) System.out.print(bottleArt[1][i]);\n",
    "        System.out.println();\n",
    "    }\n",
    "    \n",
    "    System.out.println(\"Take one down, pass it around, \" + (count - 1) + \" bottles of rum on the wall, \");\n",
    "    \n",
    "}\n",
    "\n",
    "System.out.println(\"1 bottle of rum on the wall, 1 bottle of rum\");\n",
    "System.out.println(\"Take one down, pass it around, no bottles of rum on the wall\");\n",
    "System.out.println();\n",
    "for (int i = 0; i < 19; i++) System.out.println(bottleArt[2][i]);\n",
    "System.out.println(\"No more bottles of rum on the wall, no more bottles of rum.\");\n",
    "System.out.println(\"Go to the store, buy some more, 99 bottles of rum on the wall!\");\n"
   ]
  }
 ],
 "metadata": {
  "kernelspec": {
   "display_name": "Java",
   "language": "java",
   "name": "java"
  },
  "language_info": {
   "codemirror_mode": "java",
   "file_extension": ".jshell",
   "mimetype": "text/x-java-source",
   "name": "Java",
   "pygments_lexer": "java",
   "version": "11.0.16+8-post-Ubuntu-0ubuntu120.04"
  },
  "orig_nbformat": 4
 },
 "nbformat": 4,
 "nbformat_minor": 2
}
