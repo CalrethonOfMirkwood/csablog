{
 "cells": [
  {
   "cell_type": "markdown",
   "metadata": {},
   "source": [
    "# Arrays Lesson\n",
    "> amog\n",
    "\n",
    "- toc: true \n",
    "- badges: false\n",
    "- comments: true\n",
    "- categories: [jupyter]\n",
    "- image: images/chart-preview.png\n",
    "- author: Sophie Park"
   ]
  },
  {
   "cell_type": "markdown",
   "metadata": {},
   "source": [
    "\n",
    "## Lesson Purpose and Objectives\n",
    "\n",
    "- Understand how arrays work and how to use them\n",
    "- Understand advantages and disadvantages in Java\n",
    "\n",
    "## AP Classroom Requirements\n",
    "- 3.D - Write program code to create, traverse, and manipulate elements in 1D array or ArrayList objects.\n",
    "- 6.1 - Array Creation and Access\n",
    "- 6.2 - Traversing Arrays\n",
    "- 6.3 - Enhanced for Loop for Arrays\n",
    "- 6.4 - Developing Algorithms Using Arrays\n",
    "\n",
    "## Hacks / Homework\n",
    "\n",
    "Write a class called ArrayExtremes that has two methods to compute the maximum and minimum values. You may use the template given below or write your own class\n",
    "\n",
    "- Minimum Requirements:\n",
    "    - Do this using a fixed 10-integer array and two integer outputs\n",
    "    - Create separate methods for min and max.\n",
    "-  Bonus points if you have one or more of the following:\n",
    "    - Try making it be an object that can be initialized with the following attributes: Original array, minimum, maximum\n",
    "\n"
   ]
  },
  {
   "cell_type": "code",
   "execution_count": null,
   "metadata": {},
   "outputs": [],
   "source": [
    "public class ArrayExtremes {\n",
    "    int[] array = {7,3,76,42,98,23,4,6,65,74};\n",
    "\n",
    "    int min = Integer.MAX_VALUE;\n",
    "    int max = Integer.MIN.VALUE;\n",
    "\n",
    "    public static void main(String[] args) {\n",
    "        min();\n",
    "        max();\n",
    "    }\n",
    "\n",
    "    static void min() {\n",
    "        for (int i=0; i<array.lenth; i++) {\n",
    "            if (array[i] < min) min = array[i];\n",
    "    }\n",
    "    \n",
    "    static void max() {\n",
    "        for (int i=0; i<array.lenth; i++) {\n",
    "            if (arrray[i] > max) max = array[i];\n",
    "        }\n",
    "    }\n",
    "}"
   ]
  }
 ],
 "metadata": {
  "kernelspec": {
   "display_name": "Java",
   "language": "java",
   "name": "java"
  },
  "language_info": {
   "name": "java"
  },
  "orig_nbformat": 4
 },
 "nbformat": 4,
 "nbformat_minor": 2
}
