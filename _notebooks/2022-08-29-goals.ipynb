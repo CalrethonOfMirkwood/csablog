{
 "cells": [
  {
   "cell_type": "markdown",
   "metadata": {},
   "source": [
    "# Blog Goals\n",
    "> My practical goals for this trimester\n",
    "\n",
    "- toc: true \n",
    "- badges: true\n",
    "- comments: true\n",
    "- categories: [jupyter]\n",
    "- image: images/chart-preview.png\n",
    "- author: Sophie Park"
   ]
  },
  {
   "cell_type": "markdown",
   "metadata": {},
   "source": [
    "# This Blog\n",
    "\n",
    "This blog was made to meet the requirements of my CSA class and College Board.  However, there is much more I can do with this blog.\n",
    "\n",
    "I am thinking of using this to support me in APEL and my general interest in literature.\n",
    "\n",
    "I have several options: publishing my short stories, grammar or rethoric lessons, book reviews, or general book-related blogging.  I may choose just one but will most likely do a mix of all four.\n",
    "\n",
    "Of course, this will all be in addition to the 10 College Board units that I will go through this year.  I am sure I can use the things I learn in college board to improve my blog so I can better describe literature."
   ]
  },
  {
   "cell_type": "markdown",
   "metadata": {},
   "source": [
    "## PBL vs College Board?\n",
    "\n",
    "Project-based learning is the curriculum of the class, College Board sets different requriements.\n",
    "\n",
    "PBL is generally project-focused and will be most visible on this blog.  In contrast, CB material is largely theoretical and will be moure foundational to the blog.\n",
    "\n",
    "I will differentiate between the two by using tags.  Currently all of the blog posts on this blog have the [jupyter] tag.  I plan to make two more tags, [PBL] and [CB] to differentiate between my PBL and College Board work."
   ]
  }
 ],
 "metadata": {
  "language_info": {
   "name": "python"
  },
  "orig_nbformat": 4
 },
 "nbformat": 4,
 "nbformat_minor": 2
}
