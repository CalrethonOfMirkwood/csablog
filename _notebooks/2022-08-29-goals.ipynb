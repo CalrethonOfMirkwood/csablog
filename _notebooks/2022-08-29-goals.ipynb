{
 "cells": [
  {
   "cell_type": "markdown",
   "metadata": {},
   "source": [
    "# Blog Goals\n",
    "> My practical goals for this trimester\n",
    "\n",
    "- toc: true \n",
    "- badges: true\n",
    "- comments: true\n",
    "- categories: [jupyter]\n",
    "- image: images/chart-preview.png\n",
    "- author: Sophie Park"
   ]
  },
  {
   "cell_type": "markdown",
   "metadata": {},
   "source": [
    "# This Blog\n",
    "\n",
    "This blog was made to meet the requirements of my CSA class and College Board.  However, there is much more I can do with this blog.\n",
    "\n",
    "I am thinking of using this to support me in APEL and my general interest in literature.\n",
    "\n",
    "I have several options: publishing my short stories, grammar or rethoric lessons, book reviews, or general book-related blogging.  I may choose just one but will most likely do a mix of all four."
   ]
  }
 ],
 "metadata": {
  "language_info": {
   "name": "python"
  },
  "orig_nbformat": 4
 },
 "nbformat": 4,
 "nbformat_minor": 2
}
