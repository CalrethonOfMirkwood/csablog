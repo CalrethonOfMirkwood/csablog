{
 "cells": [
  {
   "cell_type": "markdown",
   "metadata": {},
   "source": [
    "# Bashbook\n",
    "> yes \"I know how to code\"\n",
    "\n",
    "- toc: true \n",
    "- badges: true\n",
    "- comments: true\n",
    "- categories: [jupyter]\n",
    "- image: images/chart-preview.png\n",
    "- author: Sophie Park"
   ]
  },
  {
   "cell_type": "markdown",
   "metadata": {},
   "source": [
    "# Bash demonstration\n",
    "\n",
    "In this usage `echo` prints out the given argument."
   ]
  },
  {
   "cell_type": "code",
   "execution_count": null,
   "metadata": {
    "vscode": {
     "languageId": "shellscript"
    }
   },
   "outputs": [],
   "source": [
    "echo \"Echo returns its argument\""
   ]
  },
  {
   "cell_type": "markdown",
   "metadata": {},
   "source": [
    "The following script prints your ip address."
   ]
  },
  {
   "cell_type": "code",
   "execution_count": null,
   "metadata": {
    "vscode": {
     "languageId": "shellscript"
    }
   },
   "outputs": [],
   "source": [
    "hostname -I"
   ]
  },
  {
   "cell_type": "markdown",
   "metadata": {},
   "source": [
    "The following prints your ip address but red"
   ]
  },
  {
   "cell_type": "code",
   "execution_count": null,
   "metadata": {
    "vscode": {
     "languageId": "shellscript"
    }
   },
   "outputs": [],
   "source": [
    "echo -e \"\\e[31m $(hostname -I) \\e[0m\""
   ]
  },
  {
   "cell_type": "markdown",
   "metadata": {},
   "source": [
    "The following prints your ip address but black on red and bold and italicized and underlined and blinking"
   ]
  },
  {
   "cell_type": "code",
   "execution_count": null,
   "metadata": {
    "vscode": {
     "languageId": "shellscript"
    }
   },
   "outputs": [],
   "source": [
    "echo -e \"\\e[31;40;1;3;4;7m $(hostname -I) \\e[0m\""
   ]
  },
  {
   "cell_type": "markdown",
   "metadata": {},
   "source": [
    "The following script demonstrates text coloring with echo interpretation."
   ]
  },
  {
   "cell_type": "code",
   "execution_count": null,
   "metadata": {
    "vscode": {
     "languageId": "shellscript"
    }
   },
   "outputs": [],
   "source": [
    "echo \"Here are the options:\"\n",
    "echo \"1. Print unedecorated text\"\n",
    "echo \"2. Print red text\"\n",
    "echo \"3. Print red on black and bold and italicized and underlined and blinking text\"\n",
    "echo \"4. Print text in color of choice\"\n",
    "echo \"5. What's your favorite color?\"\n",
    "read -p \"Enter choice: \" num\n",
    "\n",
    "if [ $num = \"5\"]; then\n",
    "    echo -e \"My favorite color is \\e[33myellow\\e[0m\"\n",
    "else\n",
    "    read -p \"Text to print: \" text\n",
    "fi\n",
    "\n",
    "if [ $num = \"1\" ]; then\n",
    "    echo $text\n",
    "fi\n",
    "\n",
    "if [ $num = \"2\" ]; then\n",
    "    echo -e \"\\e[31m $text \\e[0m\"\n",
    "fi\n",
    "\n",
    "if [ $num = \"3\"]; then\n",
    "    echo -e \"\\e[31;40;1;3;4;7m $text \\e[0m\"\n",
    "fi\n",
    "\n",
    "if [ $num = \"4\"]; then\n",
    "    echo \"1. Grey\"\n",
    "    echo \"2. Red\"\n",
    "    echo \"3. Green\"\n",
    "    echo \"4. Yellow\"\n",
    "    echo \"5. Blue\"\n",
    "    echo \"6. Purple\"\n",
    "    echo \"7. Cyan\"\n",
    "    echo \"8. White\"\n",
    "    read -p \"Enter choice: \" color\n",
    "    echo -e \"\\e[3$($color - 1)m $text \\e[0m\"\n",
    "fi"
   ]
  }
 ],
 "metadata": {
  "kernelspec": {
   "display_name": "Bash",
   "language": "bash",
   "name": "bash"
  },
  "language_info": {
   "codemirror_mode": "shell",
   "file_extension": ".sh",
   "mimetype": "text/x-sh",
   "name": "bash"
  },
  "orig_nbformat": 4,
  "vscode": {
   "interpreter": {
    "hash": "58dddbdf694ae35ec344c4ed0fe5a4144792f2dea4fe2625cb562ec249ca6e9e"
   }
  }
 },
 "nbformat": 4,
 "nbformat_minor": 2
}
