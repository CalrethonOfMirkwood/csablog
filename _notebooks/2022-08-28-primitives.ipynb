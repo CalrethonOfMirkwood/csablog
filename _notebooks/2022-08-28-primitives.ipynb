{
 "cells": [
  {
   "cell_type": "markdown",
   "metadata": {},
   "source": [
    "# Primitive Data Types\n",
    "> Java demo\n",
    "\n",
    "- toc: true \n",
    "- badges: true\n",
    "- comments: true\n",
    "- categories: [jupyter]\n",
    "- image: images/chart-preview.png\n",
    "- author: Sophie Park"
   ]
  },
  {
   "cell_type": "markdown",
   "metadata": {},
   "source": [
    "# Primitives\n",
    "\n",
    "Java has several data types, the most basic of which are \"primitives\".\n",
    "\n",
    "Excluding booleans, primitive data types are numeric: either a number or a character.  Some primitive data types are char (single alphanumeric character), int (whole numbers), double (decimal number), and boolean (true or false condition).\n",
    "\n",
    "Non-primitive data types are strings and arrays."
   ]
  },
  {
   "cell_type": "code",
   "execution_count": null,
   "metadata": {
    "vscode": {
     "languageId": "java"
    }
   },
   "outputs": [],
   "source": [
    "import java.util.Scanner;  // import scanner function to take user input\n",
    "\n",
    "public class primitiveTest { // class\n",
    "    public static void main(String[] args) {  // main\n",
    "        Scanner input;\n",
    "\n",
    "        // begin story\n",
    "        System.out.println(\"You woke up and went to school.\");\n",
    "        \n",
    "        // string wrapper\n",
    "        input =  new Scanner(System.in); // create scanner\n",
    "        System.out.println(\"What is your name: \"); // take input\n",
    "        String name = input.nextLine(); // sets variable and checks that data type is string\n",
    "        System.out.println(\"You, \" + name + \" woke up and went to school.\");\n",
    "        input.close();\n",
    "        System.out.println();\n",
    "        \n",
    "        // primitive int\n",
    "        input = new Scanner(System.in); // create scanner\n",
    "        System.out.println(\"How many friends do you have?: \"); // take input\n",
    "        try {\n",
    "            int friends = input.nextInt(); // sets variable and checks that data type is int\n",
    "            if (friends == 0) System.out.println(\"You have \" + friends + \" friends.  SAD!\");\n",
    "            if (friends == 1) System.out.println(\"You have \" + friends + \" friend.\");\n",
    "            if (friends >= 2) System.out.println(\"You have \" + friends + \" friends.\");\n",
    "        } catch (Exception e) {  // error if input is not int\n",
    "            System.out.println(\"You can only have an integer number of friends, that isn't an int, \" + e);\n",
    "        }\n",
    "        input.close();\n",
    "        System.out.println();\n",
    "\n",
    "        // primitive double\n",
    "        System.out.println(\"It's time for CSA.\");\n",
    "        input = new Scanner(System.in); // create scanner\n",
    "        System.out.println(\"What is your grade in the class ? (double format without %): \"); // take input\n",
    "        try {\n",
    "            double grade = input.nextDouble(); // sets variable and checks that data type is double\n",
    "            if (grade <= 50.0) System.out.println(grade + \"%...  I don't know what to say.\");\n",
    "            else if (grade <= 70.00) System.out.println(grade + \"%...  Looks like you been code code coding.\");\n",
    "            else if (grade <= 80.0) System.out.println(grade + \"%.  I'm not in the mood to make any moral judgements on them.\");\n",
    "            else if (grade <= 90.0) System.out.println(grade + \"%.  You're doing ok.\");\n",
    "            else System.out.println(grade + \"%!  \" + name + \"crusing.\");\n",
    "        } catch (Exception e) {  // error if input is not a double\n",
    "            System.out.println(\"Not an double (form like 13.51), \" + e);\n",
    "        }\n",
    "        input.close();\n",
    "        System.out.println();\n",
    "\n",
    "        // primitive boolean\n",
    "        System.out.println(\"It's crossover grading time.\");\n",
    "        input =  new Scanner(System.in);\n",
    "        System.out.println(\"Did you do your work? (lowercase true/false): \"); // take input\n",
    "        try {\n",
    "            boolean hw = input.nextBoolean();\n",
    "            if (hw) System.out.println(\"You did your homework.  Great.\");\n",
    "            else System.out.println(\"You didn't do your homework.  Are you ready to face the consequences?\");\n",
    "        } catch (Exception e) {  // if not true or false\n",
    "            System.out.println(\"Not an boolean (true or false), \" + e);\n",
    "        }\n",
    "        input.close();\n",
    "    }\n",
    "}\n",
    "primitiveTest.main(null);"
   ]
  }
 ],
 "metadata": {
  "kernelspec": {
   "display_name": "Java",
   "language": "java",
   "name": "java"
  },
  "language_info": {
   "codemirror_mode": "java",
   "file_extension": ".jshell",
   "mimetype": "text/x-java-source",
   "name": "Java",
   "pygments_lexer": "java",
   "version": "11.0.16+8-post-Ubuntu-0ubuntu120.04"
  },
  "orig_nbformat": 4
 },
 "nbformat": 4,
 "nbformat_minor": 2
}
