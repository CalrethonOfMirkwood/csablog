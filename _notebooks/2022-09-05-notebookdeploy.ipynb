{
 "cells": [
  {
   "cell_type": "markdown",
   "metadata": {},
   "source": [
    "# How to Deploy Jupyter Notebooks in Your Browser\n",
    "> No more copypasting into vscode!\n",
    "\n",
    "- toc: true \n",
    "- badges: true\n",
    "- comments: true\n",
    "- categories: [jupyter]\n",
    "- image: images/chart-preview.png\n",
    "- author: Sophie Park"
   ]
  },
  {
   "cell_type": "markdown",
   "metadata": {},
   "source": [
    "You likely have found it inconvenient that you cannot run a jupyter notebook in your blog.  An intuitive but annoying solution is to get the raw and copypaste it into vscode.  While that gets the job done, there's actually a one-click solution to this right in your blog post.\n",
    "\n",
    "![the icons are the github, binder, google collab, and deepnote](my_icons/fastai_logo.png)\n",
    "\n",
    "Excluding the first icon (github can't run notebooks), these icons are links to launches."
   ]
  },
  {
   "cell_type": "markdown",
   "metadata": {},
   "source": [
    "# tl;dr\n",
    "\n",
    "Click the \"launch / binder\" icon under the title of the notebook to deploy your notebook.  Loading takes a while so be patient."
   ]
  }
 ],
 "metadata": {
  "language_info": {
   "name": "python"
  },
  "orig_nbformat": 4
 },
 "nbformat": 4,
 "nbformat_minor": 2
}
