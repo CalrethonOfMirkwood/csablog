{
 "cells": [
  {
   "cell_type": "markdown",
   "metadata": {},
   "source": [
    "# Java Arraylist\n",
    "> see title\n",
    "\n",
    "- toc: true \n",
    "- badges: false\n",
    "- comments: true\n",
    "- categories: [jupyter]\n",
    "- image: images/chart-preview.png\n",
    "- author: Sophie Park"
   ]
  },
  {
   "cell_type": "code",
   "execution_count": 6,
   "metadata": {
    "vscode": {
     "languageId": "java"
    }
   },
   "outputs": [
    {
     "name": "stdout",
     "output_type": "stream",
     "text": [
      "Print current list\n",
      "List : [Jin, Suga, J-Hope, RM, Jimin, V, Jungkook]\n",
      "The list currently has 7 items\n",
      "~~~~~~~~~~~~~~~~~~~~~~~~~~~~~~~~~~~~~~~~~~~~\n",
      "Add new item\n",
      "Added 'Bob' to list\n",
      "List : [Jin, Suga, J-Hope, RM, Jimin, V, Jungkook, Bob]\n",
      "The list currently has 8 items\n",
      "~~~~~~~~~~~~~~~~~~~~~~~~~~~~~~~~~~~~~~~~~~~~\n",
      "Remove 'Jungkook'\n",
      "List : [Jin, Suga, J-Hope, RM, Jimin, V, Bob]\n",
      "The list currently has 7 items\n",
      "~~~~~~~~~~~~~~~~~~~~~~~~~~~~~~~~~~~~~~~~~~~~\n",
      "This is the element at index 2: J-Hope. Let's remove it.\n",
      "List : [Jin, Suga, J-Hope, RM, V, Bob]\n",
      "The list currently has 6 items\n",
      "~~~~~~~~~~~~~~~~~~~~~~~~~~~~~~~~~~~~~~~~~~~~\n",
      "Remove 'Jungkook'\n",
      "List : [Jin, Suga, J-Hope, RM, V, Bob]\n",
      "The list currently has 6 items\n",
      "~~~~~~~~~~~~~~~~~~~~~~~~~~~~~~~~~~~~~~~~~~~~\n",
      "Clearing the entire list using the clear() function.\n",
      "List : []\n",
      "The list currently has 0 items\n",
      "~~~~~~~~~~~~~~~~~~~~~~~~~~~~~~~~~~~~~~~~~~~~\n"
     ]
    }
   ],
   "source": [
    "import java.util.ArrayList;\n",
    "\n",
    "public class kpopList {\n",
    "\n",
    "    public static void main(String[] args) {\n",
    "        testing(null);\n",
    "    }\n",
    "\n",
    "    public static void testing(String[] args) {\n",
    "        // define list bts\n",
    "        ArrayList<String> bts = new ArrayList<String>(Arrays.asList(\"Jin\", \"Suga\", \"J-Hope\", \"RM\", \"Jimin\", \"V\", \"Jungkook\"));\n",
    "\n",
    "        // print current list\n",
    "        System.out.println(\"Print current list\");\n",
    "        System.out.println(\"List : \" + bts);\n",
    "        System.out.println(\"The list currently has \" + bts.size() + \" items\");\n",
    "        System.out.println(\"~~~~~~~~~~~~~~~~~~~~~~~~~~~~~~~~~~~~~~~~~~~~\");\n",
    "\n",
    "        // Adding insongs to songs\n",
    "        System.out.println(\"Add new item\");\n",
    "        bts.add(\"Bob\");\n",
    "        System.out.println(\"Added 'Bob' to list\");\n",
    "        System.out.println(\"List : \" + bts);\n",
    "        System.out.println(\"The list currently has \" + bts.size() + \" items\");\n",
    "        System.out.println(\"~~~~~~~~~~~~~~~~~~~~~~~~~~~~~~~~~~~~~~~~~~~~\");\n",
    "\n",
    "        // remove element based on element content itself\n",
    "        System.out.println(\"Remove 'Jungkook'\");\n",
    "        bts.remove(\"Jungkook\");\n",
    "        System.out.println(\"List : \" + bts);\n",
    "        System.out.println(\"The list currently has \" + bts.size() + \" items\");\n",
    "        System.out.println(\"~~~~~~~~~~~~~~~~~~~~~~~~~~~~~~~~~~~~~~~~~~~~\");\n",
    "\n",
    "        // get specefic element then remove it\n",
    "        System.out.println(\"This is the element at index 2: \" + bts.get(2) + \". Let's remove it.\");\n",
    "        bts.remove(4);\n",
    "        System.out.println(\"List : \" + bts);\n",
    "        System.out.println(\"The list currently has \" + bts.size() + \" items\");\n",
    "        System.out.println(\"~~~~~~~~~~~~~~~~~~~~~~~~~~~~~~~~~~~~~~~~~~~~\");\n",
    "\n",
    "        // Removing a specific element based on name\n",
    "        System.out.println(\"Remove 'Jungkook'\");\n",
    "        bts.remove(\"Jungkook\");\n",
    "        System.out.println(\"List : \" + bts);\n",
    "        System.out.println(\"The list currently has \" + bts.size() + \" items\");\n",
    "        System.out.println(\"~~~~~~~~~~~~~~~~~~~~~~~~~~~~~~~~~~~~~~~~~~~~\");\n",
    "\n",
    "        // Clearing the entire list\n",
    "        System.out.println(\"Clearing the entire list using the clear() function.\");\n",
    "        bts.clear();\n",
    "        System.out.println(\"List : \" + bts);\n",
    "        System.out.println(\"The list currently has \" + bts.size() + \" items\");\n",
    "        System.out.println(\"~~~~~~~~~~~~~~~~~~~~~~~~~~~~~~~~~~~~~~~~~~~~\");\n",
    "    }\n",
    "\n",
    "\n",
    "}\n",
    "\n",
    "kpopList.main(null);"
   ]
  },
  {
   "cell_type": "code",
   "execution_count": null,
   "metadata": {
    "vscode": {
     "languageId": "java"
    }
   },
   "outputs": [],
   "source": []
  }
 ],
 "metadata": {
  "kernelspec": {
   "display_name": "Java",
   "language": "java",
   "name": "java"
  },
  "language_info": {
   "codemirror_mode": "java",
   "file_extension": ".jshell",
   "mimetype": "text/x-java-source",
   "name": "Java",
   "pygments_lexer": "java",
   "version": "11.0.16+8-post-Ubuntu-0ubuntu120.04"
  },
  "orig_nbformat": 4
 },
 "nbformat": 4,
 "nbformat_minor": 2
}
